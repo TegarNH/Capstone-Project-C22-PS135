{
  "nbformat": 4,
  "nbformat_minor": 0,
  "metadata": {
    "colab": {
      "name": "skin-type-model.ipynb",
      "provenance": []
    },
    "kernelspec": {
      "name": "python3",
      "display_name": "Python 3"
    },
    "language_info": {
      "name": "python"
    }
  },
  "cells": [
    {
      "cell_type": "markdown",
      "source": [
        "<h1>Machine Learning for Skin Type Detection<h1>\n",
        "\n",
        "This is the code for making machine learning model for skin disease detection"
      ],
      "metadata": {
        "id": "1gikZfUZWQce"
      }
    },
    {
      "cell_type": "code",
      "source": [
        "import os\n",
        "import zipfile\n",
        "import random\n",
        "import shutil\n",
        "import tensorflow as tf\n",
        "from tensorflow.keras.preprocessing.image import ImageDataGenerator\n",
        "from shutil import copyfile\n",
        "import matplotlib.pyplot as plt"
      ],
      "metadata": {
        "id": "iPEIHf1mEwCh"
      },
      "execution_count": 1,
      "outputs": []
    },
    {
      "cell_type": "code",
      "source": [
        "#Link dari file skin disease adalah https://github.com/TegarNH/Capstone-Project-C22-PS135/blob/main/ML/Data/skin-type.zip?raw=true\n",
        "\n",
        "!wget --no-check-certificate \\\n",
        "    \"https://github.com/TegarNH/Capstone-Project-C22-PS135/blob/main/ML/Data/skin-type.zip?raw=true\" \\\n",
        "    -O \"/tmp/skin-type.zip\""
      ],
      "metadata": {
        "id": "zlv7MOChWMGn",
        "colab": {
          "base_uri": "https://localhost:8080/"
        },
        "outputId": "a55b2981-3bb0-4ede-8848-931e7d0f54aa"
      },
      "execution_count": 2,
      "outputs": [
        {
          "output_type": "stream",
          "name": "stdout",
          "text": [
            "--2022-05-17 11:52:06--  https://github.com/TegarNH/Capstone-Project-C22-PS135/blob/main/ML/Data/skin-type.zip?raw=true\n",
            "Resolving github.com (github.com)... 140.82.114.4\n",
            "Connecting to github.com (github.com)|140.82.114.4|:443... connected.\n",
            "HTTP request sent, awaiting response... 302 Found\n",
            "Location: https://github.com/TegarNH/Capstone-Project-C22-PS135/raw/main/ML/Data/skin-type.zip [following]\n",
            "--2022-05-17 11:52:06--  https://github.com/TegarNH/Capstone-Project-C22-PS135/raw/main/ML/Data/skin-type.zip\n",
            "Reusing existing connection to github.com:443.\n",
            "HTTP request sent, awaiting response... 302 Found\n",
            "Location: https://raw.githubusercontent.com/TegarNH/Capstone-Project-C22-PS135/main/ML/Data/skin-type.zip [following]\n",
            "--2022-05-17 11:52:06--  https://raw.githubusercontent.com/TegarNH/Capstone-Project-C22-PS135/main/ML/Data/skin-type.zip\n",
            "Resolving raw.githubusercontent.com (raw.githubusercontent.com)... 185.199.108.133, 185.199.109.133, 185.199.110.133, ...\n",
            "Connecting to raw.githubusercontent.com (raw.githubusercontent.com)|185.199.108.133|:443... connected.\n",
            "HTTP request sent, awaiting response... 200 OK\n",
            "Length: 2119042 (2.0M) [application/zip]\n",
            "Saving to: ‘/tmp/skin-type.zip’\n",
            "\n",
            "/tmp/skin-type.zip  100%[===================>]   2.02M  --.-KB/s    in 0.06s   \n",
            "\n",
            "2022-05-17 11:52:07 (35.7 MB/s) - ‘/tmp/skin-type.zip’ saved [2119042/2119042]\n",
            "\n"
          ]
        }
      ]
    },
    {
      "cell_type": "code",
      "source": [
        "local_zip = '/tmp/skin-type.zip'\n",
        "zip_ref   = zipfile.ZipFile(local_zip, 'r')\n",
        "zip_ref.extractall('/tmp')\n",
        "zip_ref.close()"
      ],
      "metadata": {
        "id": "7Qc49PDCExzZ"
      },
      "execution_count": 3,
      "outputs": []
    },
    {
      "cell_type": "code",
      "source": [
        "source_path = '/tmp/skin-type'\n",
        "\n",
        "source_path_dry = os.path.join(source_path, 'Dry')\n",
        "source_path_normal = os.path.join(source_path, 'Normal')\n",
        "source_path_oily = os.path.join(source_path, 'Oily')\n",
        "source_path_sensitive = os.path.join(source_path, 'Sensitive')\n",
        "\n",
        "\n",
        "# os.listdir returns a list containing all files under the given path\n",
        "print(f\"There are {len(os.listdir(source_path_dry))} images of dry skin.\")\n",
        "print(f\"There are {len(os.listdir(source_path_normal))} images of normal skin.\")\n",
        "print(f\"There are {len(os.listdir(source_path_oily))} images of oily skin.\")\n",
        "print(f\"There are {len(os.listdir(source_path_sensitive))} images of sensitive skin.\")"
      ],
      "metadata": {
        "colab": {
          "base_uri": "https://localhost:8080/"
        },
        "id": "7YEZQiKc5SpO",
        "outputId": "6d3c5d60-28b2-413c-c504-63106c768206"
      },
      "execution_count": 4,
      "outputs": [
        {
          "output_type": "stream",
          "name": "stdout",
          "text": [
            "There are 50 images of dry skin.\n",
            "There are 50 images of normal skin.\n",
            "There are 50 images of oily skin.\n",
            "There are 50 images of sensitive skin.\n"
          ]
        }
      ]
    },
    {
      "cell_type": "markdown",
      "source": [
        ""
      ],
      "metadata": {
        "id": "CRckCB_EWPko"
      }
    }
  ]
}