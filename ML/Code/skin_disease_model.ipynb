{
  "nbformat": 4,
  "nbformat_minor": 0,
  "metadata": {
    "colab": {
      "name": "skin-disease-model.ipynb",
      "provenance": []
    },
    "kernelspec": {
      "name": "python3",
      "display_name": "Python 3"
    },
    "language_info": {
      "name": "python"
    }
  },
  "cells": [
    {
      "cell_type": "markdown",
      "source": [
        "<h1>Machine Learning for Skin Disease Detection<h1>\n",
        "\n",
        "This is the code for making machine learning model for skin disease detection"
      ],
      "metadata": {
        "id": "1gikZfUZWQce"
      }
    },
    {
      "cell_type": "code",
      "source": [
        "import os\n",
        "import zipfile\n",
        "import random\n",
        "import shutil\n",
        "import tensorflow as tf\n",
        "from tensorflow.keras.preprocessing.image import ImageDataGenerator\n",
        "from shutil import copyfile\n",
        "import matplotlib.pyplot as plt"
      ],
      "metadata": {
        "id": "iPEIHf1mEwCh"
      },
      "execution_count": 1,
      "outputs": []
    },
    {
      "cell_type": "code",
      "source": [
        "#Link dari file skin disease adalah https://github.com/TegarNH/Capstone-Project-C22-PS135/blob/main/ML/Data/skin-disease.zip?raw=true\n",
        "\n",
        "!wget --no-check-certificate \\\n",
        "    \"https://github.com/TegarNH/Capstone-Project-C22-PS135/blob/main/ML/Data/skin-disease.zip?raw=true\" \\\n",
        "    -O \"/tmp/skin-disease.zip\""
      ],
      "metadata": {
        "id": "zlv7MOChWMGn",
        "colab": {
          "base_uri": "https://localhost:8080/"
        },
        "outputId": "22e5f1ff-cd81-4456-9bd1-d2257198574a"
      },
      "execution_count": 2,
      "outputs": [
        {
          "output_type": "stream",
          "name": "stdout",
          "text": [
            "--2022-05-17 11:50:58--  https://github.com/TegarNH/Capstone-Project-C22-PS135/blob/main/ML/Data/skin-disease.zip?raw=true\n",
            "Resolving github.com (github.com)... 140.82.112.4\n",
            "Connecting to github.com (github.com)|140.82.112.4|:443... connected.\n",
            "HTTP request sent, awaiting response... 302 Found\n",
            "Location: https://github.com/TegarNH/Capstone-Project-C22-PS135/raw/main/ML/Data/skin-disease.zip [following]\n",
            "--2022-05-17 11:50:58--  https://github.com/TegarNH/Capstone-Project-C22-PS135/raw/main/ML/Data/skin-disease.zip\n",
            "Reusing existing connection to github.com:443.\n",
            "HTTP request sent, awaiting response... 302 Found\n",
            "Location: https://raw.githubusercontent.com/TegarNH/Capstone-Project-C22-PS135/main/ML/Data/skin-disease.zip [following]\n",
            "--2022-05-17 11:50:58--  https://raw.githubusercontent.com/TegarNH/Capstone-Project-C22-PS135/main/ML/Data/skin-disease.zip\n",
            "Resolving raw.githubusercontent.com (raw.githubusercontent.com)... 185.199.108.133, 185.199.109.133, 185.199.110.133, ...\n",
            "Connecting to raw.githubusercontent.com (raw.githubusercontent.com)|185.199.108.133|:443... connected.\n",
            "HTTP request sent, awaiting response... 200 OK\n",
            "Length: 2295831 (2.2M) [application/zip]\n",
            "Saving to: ‘/tmp/skin-disease.zip’\n",
            "\n",
            "/tmp/skin-disease.z 100%[===================>]   2.19M  --.-KB/s    in 0.04s   \n",
            "\n",
            "2022-05-17 11:50:59 (57.5 MB/s) - ‘/tmp/skin-disease.zip’ saved [2295831/2295831]\n",
            "\n"
          ]
        }
      ]
    },
    {
      "cell_type": "code",
      "source": [
        "#Extract Zip\n",
        "local_zip = '/tmp/skin-disease.zip'\n",
        "zip_ref   = zipfile.ZipFile(local_zip, 'r')\n",
        "zip_ref.extractall('/tmp')\n",
        "zip_ref.close()"
      ],
      "metadata": {
        "id": "7Qc49PDCExzZ"
      },
      "execution_count": 3,
      "outputs": []
    },
    {
      "cell_type": "code",
      "source": [
        "source_path = '/tmp/skin-disease'\n",
        "\n",
        "source_path_acne = os.path.join(source_path, 'Acne')\n",
        "source_path_black_spots = os.path.join(source_path, 'Black Spots')\n",
        "source_path_puff_eyes = os.path.join(source_path, 'Puff Eyes')\n",
        "source_path_wrinkles = os.path.join(source_path, 'Wrinkles')\n",
        "\n",
        "\n",
        "# os.listdir returns a list containing all files under the given path\n",
        "print(f\"There are {len(os.listdir(source_path_acne))} images of acne.\")\n",
        "print(f\"There are {len(os.listdir(source_path_black_spots))} images of black spots.\")\n",
        "print(f\"There are {len(os.listdir(source_path_puff_eyes))} images of puff eyes.\")\n",
        "print(f\"There are {len(os.listdir(source_path_wrinkles))} images of black spots.\")"
      ],
      "metadata": {
        "colab": {
          "base_uri": "https://localhost:8080/"
        },
        "id": "qOf_kfIL4iev",
        "outputId": "1f0c431a-b63d-43ed-826d-6a5dad56042f"
      },
      "execution_count": 5,
      "outputs": [
        {
          "output_type": "stream",
          "name": "stdout",
          "text": [
            "There are 51 images of acne.\n",
            "There are 50 images of black spots.\n",
            "There are 50 images of puff eyes.\n",
            "There are 52 images of black spots.\n"
          ]
        }
      ]
    },
    {
      "cell_type": "markdown",
      "source": [
        ""
      ],
      "metadata": {
        "id": "CRckCB_EWPko"
      }
    }
  ]
}